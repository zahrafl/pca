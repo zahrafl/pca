{
  "nbformat": 4,
  "nbformat_minor": 0,
  "metadata": {
    "colab": {
      "provenance": [],
      "authorship_tag": "ABX9TyNo9TVCb6naZZCmyzf+a0PT",
      "include_colab_link": true
    },
    "kernelspec": {
      "name": "python3",
      "display_name": "Python 3"
    },
    "language_info": {
      "name": "python"
    }
  },
  "cells": [
    {
      "cell_type": "markdown",
      "metadata": {
        "id": "view-in-github",
        "colab_type": "text"
      },
      "source": [
        "<a href=\"https://colab.research.google.com/github/zahrafl/pca/blob/main/pca/Pca.ipynb\" target=\"_parent\"><img src=\"https://colab.research.google.com/assets/colab-badge.svg\" alt=\"Open In Colab\"/></a>"
      ]
    },
    {
      "cell_type": "markdown",
      "source": [
        "Persiapan mengimport *Library* yang dibutuhkan"
      ],
      "metadata": {
        "id": "6VjacjekYCVy"
      }
    },
    {
      "cell_type": "markdown",
      "source": [],
      "metadata": {
        "id": "TuWp4EbgYq5T"
      }
    },
    {
      "cell_type": "code",
      "execution_count": null,
      "metadata": {
        "id": "7_UJTsrJJIxO"
      },
      "outputs": [],
      "source": [
        "import numpy as np\n",
        "import pandas as pd\n",
        "import matplotlib.pyplot as plt\n",
        "import seaborn as sns\n",
        "from sklearn.decomposition import PCA\n",
        "from sklearn.model_selection import train_test_split, GridSearchCV\n",
        "from sklearn.linear_model import Ridge\n",
        "from sklearn.pipeline import make_pipeline\n",
        "from sklearn.linear_model import LinearRegression\n",
        "from sklearn.preprocessing import StandardScaler\n",
        "from sklearn.metrics import mean_squared_error, mean_absolute_error, r2_score\n",
        "import warnings\n",
        "warnings.filterwarnings('ignore')\n"
      ]
    },
    {
      "cell_type": "markdown",
      "source": [
        "Menghubungkan dengan Google Drive"
      ],
      "metadata": {
        "id": "AKDwUXm0YKBu"
      }
    },
    {
      "cell_type": "code",
      "source": [
        "from google.colab import drive\n",
        "drive.mount('/content/drive')"
      ],
      "metadata": {
        "colab": {
          "base_uri": "https://localhost:8080/"
        },
        "id": "cZroAtUDKlRz",
        "outputId": "96ae4220-cdcc-44b6-fb18-efa223f34f93"
      },
      "execution_count": null,
      "outputs": [
        {
          "output_type": "stream",
          "name": "stdout",
          "text": [
            "Mounted at /content/drive\n"
          ]
        }
      ]
    },
    {
      "cell_type": "markdown",
      "source": [
        "Menampilkan konten yang ada di Google Drive"
      ],
      "metadata": {
        "id": "b1Sxu96FYQWf"
      }
    },
    {
      "cell_type": "code",
      "source": [
        "from google.colab import drive\n",
        "drive.mount('/content/drive')"
      ],
      "metadata": {
        "colab": {
          "base_uri": "https://localhost:8080/"
        },
        "id": "vdLdSvIlLb_s",
        "outputId": "70fe8569-10e8-4629-eae9-b9f0ae9611df"
      },
      "execution_count": null,
      "outputs": [
        {
          "output_type": "stream",
          "name": "stdout",
          "text": [
            "Drive already mounted at /content/drive; to attempt to forcibly remount, call drive.mount(\"/content/drive\", force_remount=True).\n"
          ]
        }
      ]
    },
    {
      "cell_type": "markdown",
      "source": [
        "Menampilkan isi dari Folder PCA yang berisi dataset CSV"
      ],
      "metadata": {
        "id": "ldvhw1jhYVHn"
      }
    },
    {
      "cell_type": "code",
      "source": [
        "!ls /content/drive/MyDrive/PCA/"
      ],
      "metadata": {
        "colab": {
          "base_uri": "https://localhost:8080/"
        },
        "id": "wCNJlyPYMb-z",
        "outputId": "33d73f1e-09a2-4247-edbc-794b902eae6e"
      },
      "execution_count": null,
      "outputs": [
        {
          "output_type": "stream",
          "name": "stdout",
          "text": [
            "Dataset_Nilai_Siswa_PCA.csv  PCA_Student_Scores_Dataset.csv\n"
          ]
        }
      ]
    },
    {
      "cell_type": "markdown",
      "source": [
        "Memuat data"
      ],
      "metadata": {
        "id": "eMW61hjqYf7y"
      }
    },
    {
      "cell_type": "code",
      "source": [
        "import pandas as pd\n",
        "df = pd.read_csv('/content/drive/MyDrive/PCA/PCA_Student_Scores_Dataset.csv', sep=';')\n",
        "print(df.head())"
      ],
      "metadata": {
        "colab": {
          "base_uri": "https://localhost:8080/"
        },
        "id": "Yl5x4IHnMiJb",
        "outputId": "45fda992-2784-4c2a-ce8b-78ee70fc98fc"
      },
      "execution_count": null,
      "outputs": [
        {
          "output_type": "stream",
          "name": "stdout",
          "text": [
            "     Name  Math  Physics  Chemistry  Biology  History  Geography\n",
            "0  Aditya    70       74         80       82       82         70\n",
            "1    Budi    66       67         78       93       61         80\n",
            "2   Citra    94       96         78       77       65         92\n",
            "3    Dewi    97       94         79       93       62         63\n",
            "4     Eka    96       63         90       94       66         98\n"
          ]
        }
      ]
    },
    {
      "cell_type": "markdown",
      "source": [
        "Mengetahui bentuk data yang digunakan"
      ],
      "metadata": {
        "id": "XlqQXuvOYk5g"
      }
    },
    {
      "cell_type": "code",
      "source": [
        "df.info()\n",
        "print(\"Shape of data:\")\n",
        "print(df.shape)"
      ],
      "metadata": {
        "colab": {
          "base_uri": "https://localhost:8080/"
        },
        "id": "l7KBo3uCMqHC",
        "outputId": "914e17e9-6818-4e70-ac18-5528fd32e94c"
      },
      "execution_count": null,
      "outputs": [
        {
          "output_type": "stream",
          "name": "stdout",
          "text": [
            "<class 'pandas.core.frame.DataFrame'>\n",
            "RangeIndex: 50 entries, 0 to 49\n",
            "Data columns (total 7 columns):\n",
            " #   Column     Non-Null Count  Dtype \n",
            "---  ------     --------------  ----- \n",
            " 0   Name       50 non-null     object\n",
            " 1   Math       50 non-null     int64 \n",
            " 2   Physics    50 non-null     int64 \n",
            " 3   Chemistry  50 non-null     int64 \n",
            " 4   Biology    50 non-null     int64 \n",
            " 5   History    50 non-null     int64 \n",
            " 6   Geography  50 non-null     int64 \n",
            "dtypes: int64(6), object(1)\n",
            "memory usage: 2.9+ KB\n",
            "Shape of data:\n",
            "(50, 7)\n"
          ]
        }
      ]
    },
    {
      "cell_type": "markdown",
      "source": [
        "Mencari data yang duplikat"
      ],
      "metadata": {
        "id": "W4TBd1s2YwF0"
      }
    },
    {
      "cell_type": "code",
      "source": [
        "print(\"Jumlah data duplicated:\", df.duplicated().sum(), end=\"\")\n",
        "df.isna().sum()"
      ],
      "metadata": {
        "colab": {
          "base_uri": "https://localhost:8080/",
          "height": 321
        },
        "id": "87fHpwr5M28S",
        "outputId": "51601d17-e7c8-49ac-bdd5-447971adb7cd"
      },
      "execution_count": null,
      "outputs": [
        {
          "output_type": "stream",
          "name": "stdout",
          "text": [
            "Jumlah data duplicated: 0"
          ]
        },
        {
          "output_type": "execute_result",
          "data": {
            "text/plain": [
              "Name         0\n",
              "Math         0\n",
              "Physics      0\n",
              "Chemistry    0\n",
              "Biology      0\n",
              "History      0\n",
              "Geography    0\n",
              "dtype: int64"
            ],
            "text/html": [
              "<div>\n",
              "<style scoped>\n",
              "    .dataframe tbody tr th:only-of-type {\n",
              "        vertical-align: middle;\n",
              "    }\n",
              "\n",
              "    .dataframe tbody tr th {\n",
              "        vertical-align: top;\n",
              "    }\n",
              "\n",
              "    .dataframe thead th {\n",
              "        text-align: right;\n",
              "    }\n",
              "</style>\n",
              "<table border=\"1\" class=\"dataframe\">\n",
              "  <thead>\n",
              "    <tr style=\"text-align: right;\">\n",
              "      <th></th>\n",
              "      <th>0</th>\n",
              "    </tr>\n",
              "  </thead>\n",
              "  <tbody>\n",
              "    <tr>\n",
              "      <th>Name</th>\n",
              "      <td>0</td>\n",
              "    </tr>\n",
              "    <tr>\n",
              "      <th>Math</th>\n",
              "      <td>0</td>\n",
              "    </tr>\n",
              "    <tr>\n",
              "      <th>Physics</th>\n",
              "      <td>0</td>\n",
              "    </tr>\n",
              "    <tr>\n",
              "      <th>Chemistry</th>\n",
              "      <td>0</td>\n",
              "    </tr>\n",
              "    <tr>\n",
              "      <th>Biology</th>\n",
              "      <td>0</td>\n",
              "    </tr>\n",
              "    <tr>\n",
              "      <th>History</th>\n",
              "      <td>0</td>\n",
              "    </tr>\n",
              "    <tr>\n",
              "      <th>Geography</th>\n",
              "      <td>0</td>\n",
              "    </tr>\n",
              "  </tbody>\n",
              "</table>\n",
              "</div><br><label><b>dtype:</b> int64</label>"
            ]
          },
          "metadata": {},
          "execution_count": 9
        }
      ]
    },
    {
      "cell_type": "markdown",
      "source": [
        "Melakukan (Pra-pemrosesan) Standarisasi data : mengubah data sehingga memiliki rata-rata 0 dan standar deviasi 1"
      ],
      "metadata": {
        "id": "Rx4slWn5Y56O"
      }
    },
    {
      "cell_type": "code",
      "source": [
        "from sklearn.preprocessing import StandardScaler\n",
        "\n",
        "# Pilih kolom-kolom nilai mata pelajaran\n",
        "# Pastikan nama kolom sesuai dengan dataset Anda\n",
        "features = ['Math', 'Physics', 'Chemistry', 'Biology', 'History', 'Geography']\n",
        "x = df[features].values # Mengambil nilai sebagai array NumPy\n",
        "\n",
        "# Inisialisasi StandardScaler\n",
        "scaler = StandardScaler()\n",
        "\n",
        "# Melakukan standarisasi data\n",
        "x_scaled = scaler.fit_transform(x)\n",
        "\n",
        "# (Opsional) Konversi kembali ke DataFrame untuk melihat hasilnya\n",
        "df_scaled = pd.DataFrame(x_scaled, columns=features)\n",
        "print(\"\\nData setelah standarisasi:\")\n",
        "display(df_scaled.head())"
      ],
      "metadata": {
        "colab": {
          "base_uri": "https://localhost:8080/",
          "height": 241
        },
        "id": "gfVHfR7UM63x",
        "outputId": "b8279a97-1588-45fa-94e9-db8d885011e4"
      },
      "execution_count": null,
      "outputs": [
        {
          "output_type": "stream",
          "name": "stdout",
          "text": [
            "\n",
            "Data setelah standarisasi:\n"
          ]
        },
        {
          "output_type": "display_data",
          "data": {
            "text/plain": [
              "       Math   Physics  Chemistry   Biology   History  Geography\n",
              "0 -1.030613 -0.475378  -0.146739 -0.074051  0.345263  -0.816350\n",
              "1 -1.359357 -1.110424  -0.325688  0.792503 -1.449422   0.021792\n",
              "2  0.941852  1.520483  -0.325688 -0.467939 -1.107577   1.027562\n",
              "3  1.188410  1.339041  -0.236213  0.792503 -1.363961  -1.403050\n",
              "4  1.106224 -1.473308   0.748009  0.871281 -1.022116   1.530447"
            ],
            "text/html": [
              "\n",
              "  <div id=\"df-bac5b70b-dcd7-4561-aea7-278e5ace9a92\" class=\"colab-df-container\">\n",
              "    <div>\n",
              "<style scoped>\n",
              "    .dataframe tbody tr th:only-of-type {\n",
              "        vertical-align: middle;\n",
              "    }\n",
              "\n",
              "    .dataframe tbody tr th {\n",
              "        vertical-align: top;\n",
              "    }\n",
              "\n",
              "    .dataframe thead th {\n",
              "        text-align: right;\n",
              "    }\n",
              "</style>\n",
              "<table border=\"1\" class=\"dataframe\">\n",
              "  <thead>\n",
              "    <tr style=\"text-align: right;\">\n",
              "      <th></th>\n",
              "      <th>Math</th>\n",
              "      <th>Physics</th>\n",
              "      <th>Chemistry</th>\n",
              "      <th>Biology</th>\n",
              "      <th>History</th>\n",
              "      <th>Geography</th>\n",
              "    </tr>\n",
              "  </thead>\n",
              "  <tbody>\n",
              "    <tr>\n",
              "      <th>0</th>\n",
              "      <td>-1.030613</td>\n",
              "      <td>-0.475378</td>\n",
              "      <td>-0.146739</td>\n",
              "      <td>-0.074051</td>\n",
              "      <td>0.345263</td>\n",
              "      <td>-0.816350</td>\n",
              "    </tr>\n",
              "    <tr>\n",
              "      <th>1</th>\n",
              "      <td>-1.359357</td>\n",
              "      <td>-1.110424</td>\n",
              "      <td>-0.325688</td>\n",
              "      <td>0.792503</td>\n",
              "      <td>-1.449422</td>\n",
              "      <td>0.021792</td>\n",
              "    </tr>\n",
              "    <tr>\n",
              "      <th>2</th>\n",
              "      <td>0.941852</td>\n",
              "      <td>1.520483</td>\n",
              "      <td>-0.325688</td>\n",
              "      <td>-0.467939</td>\n",
              "      <td>-1.107577</td>\n",
              "      <td>1.027562</td>\n",
              "    </tr>\n",
              "    <tr>\n",
              "      <th>3</th>\n",
              "      <td>1.188410</td>\n",
              "      <td>1.339041</td>\n",
              "      <td>-0.236213</td>\n",
              "      <td>0.792503</td>\n",
              "      <td>-1.363961</td>\n",
              "      <td>-1.403050</td>\n",
              "    </tr>\n",
              "    <tr>\n",
              "      <th>4</th>\n",
              "      <td>1.106224</td>\n",
              "      <td>-1.473308</td>\n",
              "      <td>0.748009</td>\n",
              "      <td>0.871281</td>\n",
              "      <td>-1.022116</td>\n",
              "      <td>1.530447</td>\n",
              "    </tr>\n",
              "  </tbody>\n",
              "</table>\n",
              "</div>\n",
              "    <div class=\"colab-df-buttons\">\n",
              "\n",
              "  <div class=\"colab-df-container\">\n",
              "    <button class=\"colab-df-convert\" onclick=\"convertToInteractive('df-bac5b70b-dcd7-4561-aea7-278e5ace9a92')\"\n",
              "            title=\"Convert this dataframe to an interactive table.\"\n",
              "            style=\"display:none;\">\n",
              "\n",
              "  <svg xmlns=\"http://www.w3.org/2000/svg\" height=\"24px\" viewBox=\"0 -960 960 960\">\n",
              "    <path d=\"M120-120v-720h720v720H120Zm60-500h600v-160H180v160Zm220 220h160v-160H400v160Zm0 220h160v-160H400v160ZM180-400h160v-160H180v160Zm440 0h160v-160H620v160ZM180-180h160v-160H180v160Zm440 0h160v-160H620v160Z\"/>\n",
              "  </svg>\n",
              "    </button>\n",
              "\n",
              "  <style>\n",
              "    .colab-df-container {\n",
              "      display:flex;\n",
              "      gap: 12px;\n",
              "    }\n",
              "\n",
              "    .colab-df-convert {\n",
              "      background-color: #E8F0FE;\n",
              "      border: none;\n",
              "      border-radius: 50%;\n",
              "      cursor: pointer;\n",
              "      display: none;\n",
              "      fill: #1967D2;\n",
              "      height: 32px;\n",
              "      padding: 0 0 0 0;\n",
              "      width: 32px;\n",
              "    }\n",
              "\n",
              "    .colab-df-convert:hover {\n",
              "      background-color: #E2EBFA;\n",
              "      box-shadow: 0px 1px 2px rgba(60, 64, 67, 0.3), 0px 1px 3px 1px rgba(60, 64, 67, 0.15);\n",
              "      fill: #174EA6;\n",
              "    }\n",
              "\n",
              "    .colab-df-buttons div {\n",
              "      margin-bottom: 4px;\n",
              "    }\n",
              "\n",
              "    [theme=dark] .colab-df-convert {\n",
              "      background-color: #3B4455;\n",
              "      fill: #D2E3FC;\n",
              "    }\n",
              "\n",
              "    [theme=dark] .colab-df-convert:hover {\n",
              "      background-color: #434B5C;\n",
              "      box-shadow: 0px 1px 3px 1px rgba(0, 0, 0, 0.15);\n",
              "      filter: drop-shadow(0px 1px 2px rgba(0, 0, 0, 0.3));\n",
              "      fill: #FFFFFF;\n",
              "    }\n",
              "  </style>\n",
              "\n",
              "    <script>\n",
              "      const buttonEl =\n",
              "        document.querySelector('#df-bac5b70b-dcd7-4561-aea7-278e5ace9a92 button.colab-df-convert');\n",
              "      buttonEl.style.display =\n",
              "        google.colab.kernel.accessAllowed ? 'block' : 'none';\n",
              "\n",
              "      async function convertToInteractive(key) {\n",
              "        const element = document.querySelector('#df-bac5b70b-dcd7-4561-aea7-278e5ace9a92');\n",
              "        const dataTable =\n",
              "          await google.colab.kernel.invokeFunction('convertToInteractive',\n",
              "                                                    [key], {});\n",
              "        if (!dataTable) return;\n",
              "\n",
              "        const docLinkHtml = 'Like what you see? Visit the ' +\n",
              "          '<a target=\"_blank\" href=https://colab.research.google.com/notebooks/data_table.ipynb>data table notebook</a>'\n",
              "          + ' to learn more about interactive tables.';\n",
              "        element.innerHTML = '';\n",
              "        dataTable['output_type'] = 'display_data';\n",
              "        await google.colab.output.renderOutput(dataTable, element);\n",
              "        const docLink = document.createElement('div');\n",
              "        docLink.innerHTML = docLinkHtml;\n",
              "        element.appendChild(docLink);\n",
              "      }\n",
              "    </script>\n",
              "  </div>\n",
              "\n",
              "\n",
              "    <div id=\"df-414dbf7c-fd39-4d36-908a-8009bf003d8e\">\n",
              "      <button class=\"colab-df-quickchart\" onclick=\"quickchart('df-414dbf7c-fd39-4d36-908a-8009bf003d8e')\"\n",
              "                title=\"Suggest charts\"\n",
              "                style=\"display:none;\">\n",
              "\n",
              "<svg xmlns=\"http://www.w3.org/2000/svg\" height=\"24px\"viewBox=\"0 0 24 24\"\n",
              "     width=\"24px\">\n",
              "    <g>\n",
              "        <path d=\"M19 3H5c-1.1 0-2 .9-2 2v14c0 1.1.9 2 2 2h14c1.1 0 2-.9 2-2V5c0-1.1-.9-2-2-2zM9 17H7v-7h2v7zm4 0h-2V7h2v10zm4 0h-2v-4h2v4z\"/>\n",
              "    </g>\n",
              "</svg>\n",
              "      </button>\n",
              "\n",
              "<style>\n",
              "  .colab-df-quickchart {\n",
              "      --bg-color: #E8F0FE;\n",
              "      --fill-color: #1967D2;\n",
              "      --hover-bg-color: #E2EBFA;\n",
              "      --hover-fill-color: #174EA6;\n",
              "      --disabled-fill-color: #AAA;\n",
              "      --disabled-bg-color: #DDD;\n",
              "  }\n",
              "\n",
              "  [theme=dark] .colab-df-quickchart {\n",
              "      --bg-color: #3B4455;\n",
              "      --fill-color: #D2E3FC;\n",
              "      --hover-bg-color: #434B5C;\n",
              "      --hover-fill-color: #FFFFFF;\n",
              "      --disabled-bg-color: #3B4455;\n",
              "      --disabled-fill-color: #666;\n",
              "  }\n",
              "\n",
              "  .colab-df-quickchart {\n",
              "    background-color: var(--bg-color);\n",
              "    border: none;\n",
              "    border-radius: 50%;\n",
              "    cursor: pointer;\n",
              "    display: none;\n",
              "    fill: var(--fill-color);\n",
              "    height: 32px;\n",
              "    padding: 0;\n",
              "    width: 32px;\n",
              "  }\n",
              "\n",
              "  .colab-df-quickchart:hover {\n",
              "    background-color: var(--hover-bg-color);\n",
              "    box-shadow: 0 1px 2px rgba(60, 64, 67, 0.3), 0 1px 3px 1px rgba(60, 64, 67, 0.15);\n",
              "    fill: var(--button-hover-fill-color);\n",
              "  }\n",
              "\n",
              "  .colab-df-quickchart-complete:disabled,\n",
              "  .colab-df-quickchart-complete:disabled:hover {\n",
              "    background-color: var(--disabled-bg-color);\n",
              "    fill: var(--disabled-fill-color);\n",
              "    box-shadow: none;\n",
              "  }\n",
              "\n",
              "  .colab-df-spinner {\n",
              "    border: 2px solid var(--fill-color);\n",
              "    border-color: transparent;\n",
              "    border-bottom-color: var(--fill-color);\n",
              "    animation:\n",
              "      spin 1s steps(1) infinite;\n",
              "  }\n",
              "\n",
              "  @keyframes spin {\n",
              "    0% {\n",
              "      border-color: transparent;\n",
              "      border-bottom-color: var(--fill-color);\n",
              "      border-left-color: var(--fill-color);\n",
              "    }\n",
              "    20% {\n",
              "      border-color: transparent;\n",
              "      border-left-color: var(--fill-color);\n",
              "      border-top-color: var(--fill-color);\n",
              "    }\n",
              "    30% {\n",
              "      border-color: transparent;\n",
              "      border-left-color: var(--fill-color);\n",
              "      border-top-color: var(--fill-color);\n",
              "      border-right-color: var(--fill-color);\n",
              "    }\n",
              "    40% {\n",
              "      border-color: transparent;\n",
              "      border-right-color: var(--fill-color);\n",
              "      border-top-color: var(--fill-color);\n",
              "    }\n",
              "    60% {\n",
              "      border-color: transparent;\n",
              "      border-right-color: var(--fill-color);\n",
              "    }\n",
              "    80% {\n",
              "      border-color: transparent;\n",
              "      border-right-color: var(--fill-color);\n",
              "      border-bottom-color: var(--fill-color);\n",
              "    }\n",
              "    90% {\n",
              "      border-color: transparent;\n",
              "      border-bottom-color: var(--fill-color);\n",
              "    }\n",
              "  }\n",
              "</style>\n",
              "\n",
              "      <script>\n",
              "        async function quickchart(key) {\n",
              "          const quickchartButtonEl =\n",
              "            document.querySelector('#' + key + ' button');\n",
              "          quickchartButtonEl.disabled = true;  // To prevent multiple clicks.\n",
              "          quickchartButtonEl.classList.add('colab-df-spinner');\n",
              "          try {\n",
              "            const charts = await google.colab.kernel.invokeFunction(\n",
              "                'suggestCharts', [key], {});\n",
              "          } catch (error) {\n",
              "            console.error('Error during call to suggestCharts:', error);\n",
              "          }\n",
              "          quickchartButtonEl.classList.remove('colab-df-spinner');\n",
              "          quickchartButtonEl.classList.add('colab-df-quickchart-complete');\n",
              "        }\n",
              "        (() => {\n",
              "          let quickchartButtonEl =\n",
              "            document.querySelector('#df-414dbf7c-fd39-4d36-908a-8009bf003d8e button');\n",
              "          quickchartButtonEl.style.display =\n",
              "            google.colab.kernel.accessAllowed ? 'block' : 'none';\n",
              "        })();\n",
              "      </script>\n",
              "    </div>\n",
              "\n",
              "    </div>\n",
              "  </div>\n"
            ],
            "application/vnd.google.colaboratory.intrinsic+json": {
              "type": "dataframe",
              "summary": "{\n  \"name\": \"display(df_scaled\",\n  \"rows\": 5,\n  \"fields\": [\n    {\n      \"column\": \"Math\",\n      \"properties\": {\n        \"dtype\": \"number\",\n        \"std\": 1.2539771674425588,\n        \"min\": -1.359357369885008,\n        \"max\": 1.1884103729466264,\n        \"num_unique_values\": 5,\n        \"samples\": [\n          -1.359357369885008,\n          1.106224316726251,\n          0.9418522042855005\n        ],\n        \"semantic_type\": \"\",\n        \"description\": \"\"\n      }\n    },\n    {\n      \"column\": \"Physics\",\n      \"properties\": {\n        \"dtype\": \"number\",\n        \"std\": 1.3898377915307278,\n        \"min\": -1.4733081682429905,\n        \"max\": 1.5204830603295896,\n        \"num_unique_values\": 5,\n        \"samples\": [\n          -1.1104243829614655,\n          -1.4733081682429905,\n          1.5204830603295896\n        ],\n        \"semantic_type\": \"\",\n        \"description\": \"\"\n      }\n    },\n    {\n      \"column\": \"Chemistry\",\n      \"properties\": {\n        \"dtype\": \"number\",\n        \"std\": 0.4562337135148234,\n        \"min\": -0.3256882451159379,\n        \"max\": 0.7480092662552857,\n        \"num_unique_values\": 4,\n        \"samples\": [\n          -0.3256882451159379,\n          0.7480092662552857,\n          -0.14673865988740062\n        ],\n        \"semantic_type\": \"\",\n        \"description\": \"\"\n      }\n    },\n    {\n      \"column\": \"Biology\",\n      \"properties\": {\n        \"dtype\": \"number\",\n        \"std\": 0.6137584963640592,\n        \"min\": -0.4679394029778714,\n        \"max\": 0.8712811105951618,\n        \"num_unique_values\": 4,\n        \"samples\": [\n          0.7925034333261598,\n          0.8712811105951618,\n          -0.07405101663286165\n        ],\n        \"semantic_type\": \"\",\n        \"description\": \"\"\n      }\n    },\n    {\n      \"column\": \"History\",\n      \"properties\": {\n        \"dtype\": \"number\",\n        \"std\": 0.7286790739359841,\n        \"min\": -1.4494223045559902,\n        \"max\": 0.34526333198149833,\n        \"num_unique_values\": 5,\n        \"samples\": [\n          -1.4494223045559902,\n          -1.022116200618493,\n          -1.1075774214059924\n        ],\n        \"semantic_type\": \"\",\n        \"description\": \"\"\n      }\n    },\n    {\n      \"column\": \"Geography\",\n      \"properties\": {\n        \"dtype\": \"number\",\n        \"std\": 1.225522964359954,\n        \"min\": -1.4030497052754554,\n        \"max\": 1.5304472890280663,\n        \"num_unique_values\": 5,\n        \"samples\": [\n          0.021791691957683733,\n          1.5304472890280663,\n          1.0275620900046054\n        ],\n        \"semantic_type\": \"\",\n        \"description\": \"\"\n      }\n    }\n  ]\n}"
            }
          },
          "metadata": {}
        }
      ]
    },
    {
      "cell_type": "markdown",
      "source": [
        "Menerapkan PCA, dengan menyederhanakan data menjadi 2 dimensi utama"
      ],
      "metadata": {
        "id": "WaGgL0KbZPcI"
      }
    },
    {
      "cell_type": "code",
      "source": [
        "# Inisialisasi model PCA dengan 2 komponen utama\n",
        "pca = PCA(n_components=2)\n",
        "\n",
        "# Menerapkan PCA pada data yang sudah distandarisasi\n",
        "principal_components = pca.fit_transform(x_scaled)\n",
        "\n",
        "# Membuat DataFrame baru untuk komponen utama\n",
        "df_pca = pd.DataFrame(data = principal_components, columns = ['Principal Component 1', 'Principal Component 2'])\n",
        "\n",
        "# Jika Anda memiliki kolom 'Nama Siswa' atau 'ID Siswa' di df_nilai,\n",
        "# Anda bisa menggabungkannya kembali ke df_pca\n",
        "# Contoh: df_pca = pd.concat([df_nilai[['Nama Siswa']], df_pca], axis = 1)\n",
        "\n",
        "print(\"\\nHasil PCA (2 Komponen Utama):\")\n",
        "print(df_pca.head())"
      ],
      "metadata": {
        "colab": {
          "base_uri": "https://localhost:8080/"
        },
        "id": "QqIJhIVXQd5-",
        "outputId": "36d543ef-5c82-4416-c29c-af4fc6d1edcb"
      },
      "execution_count": null,
      "outputs": [
        {
          "output_type": "stream",
          "name": "stdout",
          "text": [
            "\n",
            "Hasil PCA (2 Komponen Utama):\n",
            "   Principal Component 1  Principal Component 2\n",
            "0              -1.096247               0.204269\n",
            "1              -1.405822              -1.368947\n",
            "2               1.528383              -0.935287\n",
            "3               1.730728              -1.555557\n",
            "4               0.366760              -0.294613\n"
          ]
        }
      ]
    },
    {
      "cell_type": "markdown",
      "source": [
        "Menganalisa varian"
      ],
      "metadata": {
        "id": "AWA7N4wtZZMc"
      }
    },
    {
      "cell_type": "code",
      "source": [
        "# Menampilkan proporsi variansi yang dijelaskan oleh setiap komponen\n",
        "print(f\"\\nProporsi variansi yang dijelaskan oleh PC1: {pca.explained_variance_ratio_[0]:.2f}\")\n",
        "print(f\"Proporsi variansi yang dijelaskan oleh PC2: {pca.explained_variance_ratio_[1]:.2f}\")\n",
        "print(f\"Total variansi yang dijelaskan oleh 2 komponen utama: {sum(pca.explained_variance_ratio_):.2f}\")\n",
        "\n",
        "# Visualisasi variansi kumulatif yang dijelaskan (Scree Plot)\n",
        "plt.figure(figsize=(8, 5))\n",
        "plt.plot(range(1, len(pca.explained_variance_ratio_) + 1), pca.explained_variance_ratio_.cumsum(), marker='o', linestyle='--')\n",
        "plt.title('Scree Plot: Kumulatif Variansi Dijelaskan oleh Komponen Utama')\n",
        "plt.xlabel('Jumlah Komponen Utama')\n",
        "plt.ylabel('Kumulatif Variansi Dijelaskan')\n",
        "plt.grid(True)\n",
        "plt.show()"
      ],
      "metadata": {
        "colab": {
          "base_uri": "https://localhost:8080/",
          "height": 556
        },
        "id": "qg1f5fEXQim9",
        "outputId": "6c814fd3-28d6-4e93-90ce-a1d20ba4687a"
      },
      "execution_count": null,
      "outputs": [
        {
          "output_type": "stream",
          "name": "stdout",
          "text": [
            "\n",
            "Proporsi variansi yang dijelaskan oleh PC1: 0.25\n",
            "Proporsi variansi yang dijelaskan oleh PC2: 0.21\n",
            "Total variansi yang dijelaskan oleh 2 komponen utama: 0.46\n"
          ]
        },
        {
          "output_type": "display_data",
          "data": {
            "text/plain": [
              "<Figure size 800x500 with 1 Axes>"
            ],
            "image/png": "[encoded data removed]"
          },
          "metadata": {}
        }
      ]
    },
    {
      "cell_type": "markdown",
      "source": [
        "Memahami kontribusi mapel terhadap komponen utama"
      ],
      "metadata": {
        "id": "7EqdrkVLZgri"
      }
    },
    {
      "cell_type": "code",
      "source": [
        "# Membuat DataFrame loadings\n",
        "loadings = pd.DataFrame(pca.components_.T, columns=['PC1', 'PC2'], index=features)\n",
        "print(\"\\nLoading (Kontribusi) Mata Pelajaran terhadap Komponen Utama:\")\n",
        "print(loadings)\n",
        "\n",
        "# Visualisasi loadings (Biplot atau Bar Plot)\n",
        "plt.figure(figsize=(10, 7))\n",
        "sns.heatmap(loadings, annot=True, cmap='viridis', fmt=\".2f\")\n",
        "plt.title('Kontribusi Mata Pelajaran pada Principal Components')\n",
        "plt.xlabel('Principal Component')\n",
        "plt.ylabel('Mata Pelajaran')\n",
        "plt.show()"
      ],
      "metadata": {
        "colab": {
          "base_uri": "https://localhost:8080/",
          "height": 797
        },
        "id": "b2MUtZKfRJE0",
        "outputId": "fe34a260-fe53-402c-fc1e-441727f831bd"
      },
      "execution_count": null,
      "outputs": [
        {
          "output_type": "stream",
          "name": "stdout",
          "text": [
            "\n",
            "Loading (Kontribusi) Mata Pelajaran terhadap Komponen Utama:\n",
            "                PC1       PC2\n",
            "Math       0.629922  0.060421\n",
            "Physics    0.640186 -0.185366\n",
            "Chemistry  0.390900  0.576402\n",
            "Biology    0.163607 -0.445880\n",
            "History   -0.109042  0.656448\n",
            "Geography  0.043594 -0.004087\n"
          ]
        },
        {
          "output_type": "display_data",
          "data": {
            "text/plain": [
              "<Figure size 1000x700 with 2 Axes>"
            ],
            "image/png": "[encoded data removed]"
          },
          "metadata": {}
        }
      ]
    },
    {
      "cell_type": "markdown",
      "source": [
        "Membuat visualisasi hasil PCA (Plot 2D)"
      ],
      "metadata": {
        "id": "p6OMxnxdZovm"
      }
    },
    {
      "cell_type": "code",
      "source": [
        "plt.figure(figsize=(10, 8))\n",
        "sns.scatterplot(x='Principal Component 1', y='Principal Component 2', data=df_pca, alpha=0.7)\n",
        "plt.title('Plot Siswa pada 2 Komponen Utama')\n",
        "plt.xlabel('Principal Component 1')\n",
        "plt.ylabel('Principal Component 2')\n",
        "plt.grid(True)\n",
        "plt.axhline(0, color='grey', linestyle='--', linewidth=0.8)\n",
        "plt.axvline(0, color='grey', linestyle='--', linewidth=0.8)\n",
        "plt.show()"
      ],
      "metadata": {
        "colab": {
          "base_uri": "https://localhost:8080/",
          "height": 718
        },
        "id": "BNJ3jZAwj8sg",
        "outputId": "a4eee679-c251-4a8a-8554-617d9f293753"
      },
      "execution_count": null,
      "outputs": [
        {
          "output_type": "display_data",
          "data": {
            "text/plain": [
              "<Figure size 1000x800 with 1 Axes>"
            ],
            "image/png": "[encoded data removed]"
          },
          "metadata": {}
        }
      ]
    }
  ]
}